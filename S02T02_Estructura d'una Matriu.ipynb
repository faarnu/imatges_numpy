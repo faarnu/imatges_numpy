{
 "cells": [
  {
   "cell_type": "markdown",
   "id": "0f86c01b",
   "metadata": {},
   "source": [
    "# Estructura d'una Matriu"
   ]
  },
  {
   "cell_type": "markdown",
   "id": "62907d32",
   "metadata": {},
   "source": [
    "## Nivell 1\n"
   ]
  },
  {
   "cell_type": "markdown",
   "id": "79351ed0",
   "metadata": {},
   "source": [
    "### - Exercici 1\n",
    "Crea un np.array d'una dimensió, que inclogui l'almenys 8 nombres sencers, data type int64. Mostra la dimensió i la forma de la matriu. ."
   ]
  },
  {
   "cell_type": "code",
   "execution_count": 52,
   "id": "71ff0aa3",
   "metadata": {},
   "outputs": [
    {
     "name": "stdout",
     "output_type": "stream",
     "text": [
      "El nombre de dimensions de la matriu1 és: 1\n",
      "La forma de la matriu és: (9,)\n",
      "\n",
      "La longitud de la matriu és: 9\n",
      "El numero d'elements és: 9\n"
     ]
    }
   ],
   "source": [
    "import numpy as np\n",
    "\n",
    "matriu1 = np.array([1,2,3,4,5,6,7,8, np.int64])\n",
    "\n",
    "print(\"El nombre de dimensions de la matriu1 és:\",matriu1.ndim)  # nombre de dimensions\n",
    "print(\"La forma de la matriu és:\", matriu1.shape) # dimensions de la array (from)\n",
    "print()\n",
    "print(\"La longitud de la matriu és:\",len(matriu1)) # Longitud de la matriu \n",
    "print(\"El numero d'elements és:\",matriu1.size)  # Nombre d'elements\n"
   ]
  },
  {
   "cell_type": "markdown",
   "id": "f7a672de",
   "metadata": {},
   "source": [
    "### - Exercici 2\n",
    "De la matriu de l'exercici 1, calcula el valor mitjà dels valors introduïts i resta la mitjana resultant de cada un dels valors de la matriu."
   ]
  },
  {
   "cell_type": "code",
   "execution_count": 74,
   "id": "ec44e262",
   "metadata": {},
   "outputs": [
    {
     "name": "stdout",
     "output_type": "stream",
     "text": [
      "-3.5\n",
      "-2.5\n",
      "-1.5\n",
      "-0.5\n",
      "0.5\n",
      "1.5\n",
      "2.5\n",
      "3.5\n"
     ]
    }
   ],
   "source": [
    "matriu2 = np.array([1,2,3,4,5,6,7,8])\n",
    "mitjana = matriu2.mean()\n",
    "\n",
    "for elemento in np.nditer(matriu2, order=\"F\"):\n",
    "    print(elemento-mitjana)\n",
    "   \n",
    "\n"
   ]
  },
  {
   "cell_type": "markdown",
   "id": "a16baffb",
   "metadata": {},
   "source": [
    "### - Exercici 3\n",
    "Crea una matriu bidimensional amb una forma de 5 x 5. Extreu el valor màxim de la matriu, i els valors màxims de cadascun dels seus eixos."
   ]
  },
  {
   "cell_type": "code",
   "execution_count": 77,
   "id": "43c869bb",
   "metadata": {},
   "outputs": [
    {
     "name": "stdout",
     "output_type": "stream",
     "text": [
      "El valor mínim és: 0\n",
      "El valor màxim és: 100\n"
     ]
    }
   ],
   "source": [
    "matriu3 = np.array([[0,1,2,3,4],[1,1,2,3,4],[1,1,2,3,4],[1,1,2,3,4],[1,1,2,3,100]])\n",
    "\n",
    "print(\"El valor mínim és:\", matriu3.min())\n",
    "\n",
    "print(\"El valor màxim és:\", matriu3.max())\n",
    " "
   ]
  }
 ],
 "metadata": {
  "kernelspec": {
   "display_name": "Python 3 (ipykernel)",
   "language": "python",
   "name": "python3"
  },
  "language_info": {
   "codemirror_mode": {
    "name": "ipython",
    "version": 3
   },
   "file_extension": ".py",
   "mimetype": "text/x-python",
   "name": "python",
   "nbconvert_exporter": "python",
   "pygments_lexer": "ipython3",
   "version": "3.9.7"
  }
 },
 "nbformat": 4,
 "nbformat_minor": 5
}
